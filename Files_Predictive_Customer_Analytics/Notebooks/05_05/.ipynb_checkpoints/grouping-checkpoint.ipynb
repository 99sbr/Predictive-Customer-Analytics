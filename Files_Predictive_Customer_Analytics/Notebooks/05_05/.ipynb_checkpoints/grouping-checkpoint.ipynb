{
 "cells": [
  {
   "cell_type": "markdown",
   "metadata": {},
   "source": [
    " #  <p style=\"text-align: center;\">Grouping Similar Problems</p> "
   ]
  },
  {
   "cell_type": "markdown",
   "metadata": {},
   "source": [
    "In this example, we are going to group customer support problems into problem groups based on their attributes. Then we will analyze the groups to see similarities and differences."
   ]
  },
  {
   "cell_type": "markdown",
   "metadata": {},
   "source": [
    "## Loading the Dataset"
   ]
  },
  {
   "cell_type": "code",
   "execution_count": 1,
   "metadata": {
    "collapsed": false
   },
   "outputs": [
    {
     "data": {
      "text/plain": [
       "PROBLEM_TYPE             object\n",
       "COUNT                     int64\n",
       "AVG_CALLS_TO_RESOLVE    float64\n",
       "AVG_RESOLUTION_TIME       int64\n",
       "REOCCUR_RATE            float64\n",
       "REPLACEMENT_RATE        float64\n",
       "dtype: object"
      ]
     },
     "execution_count": 1,
     "metadata": {},
     "output_type": "execute_result"
    }
   ],
   "source": [
    "%matplotlib inline\n",
    "\n",
    "from pandas import Series, DataFrame\n",
    "import pandas as pd\n",
    "import numpy as np\n",
    "import os\n",
    "import matplotlib.pylab as plt\n",
    "from sklearn.model_selection  import train_test_split\n",
    "from sklearn.cluster import KMeans\n",
    "import sklearn.metrics\n",
    "\n",
    "raw_data = pd.read_csv(\"issues.csv\")\n",
    "raw_data.dtypes"
   ]
  },
  {
   "cell_type": "markdown",
   "metadata": {},
   "source": [
    "The dataset contains one record for each unique problem type. It has metrics for each type like count, average calls to resolve, average resolution time etc."
   ]
  },
  {
   "cell_type": "code",
   "execution_count": 2,
   "metadata": {
    "collapsed": false
   },
   "outputs": [
    {
     "data": {
      "text/html": [
       "<div>\n",
       "<table border=\"1\" class=\"dataframe\">\n",
       "  <thead>\n",
       "    <tr style=\"text-align: right;\">\n",
       "      <th></th>\n",
       "      <th>PROBLEM_TYPE</th>\n",
       "      <th>COUNT</th>\n",
       "      <th>AVG_CALLS_TO_RESOLVE</th>\n",
       "      <th>AVG_RESOLUTION_TIME</th>\n",
       "      <th>REOCCUR_RATE</th>\n",
       "      <th>REPLACEMENT_RATE</th>\n",
       "    </tr>\n",
       "  </thead>\n",
       "  <tbody>\n",
       "    <tr>\n",
       "      <th>0</th>\n",
       "      <td>Admin Password Lost</td>\n",
       "      <td>45</td>\n",
       "      <td>2.3</td>\n",
       "      <td>54</td>\n",
       "      <td>0.15</td>\n",
       "      <td>0.00</td>\n",
       "    </tr>\n",
       "    <tr>\n",
       "      <th>1</th>\n",
       "      <td>Windows Reboots automatically</td>\n",
       "      <td>47</td>\n",
       "      <td>3.1</td>\n",
       "      <td>132</td>\n",
       "      <td>0.30</td>\n",
       "      <td>0.03</td>\n",
       "    </tr>\n",
       "    <tr>\n",
       "      <th>2</th>\n",
       "      <td>System not coming up after reboot</td>\n",
       "      <td>12</td>\n",
       "      <td>4.0</td>\n",
       "      <td>154</td>\n",
       "      <td>0.02</td>\n",
       "      <td>0.05</td>\n",
       "    </tr>\n",
       "    <tr>\n",
       "      <th>3</th>\n",
       "      <td>Slow system</td>\n",
       "      <td>165</td>\n",
       "      <td>1.2</td>\n",
       "      <td>32</td>\n",
       "      <td>0.03</td>\n",
       "      <td>0.00</td>\n",
       "    </tr>\n",
       "    <tr>\n",
       "      <th>4</th>\n",
       "      <td>Internet Connectivity loss</td>\n",
       "      <td>321</td>\n",
       "      <td>1.0</td>\n",
       "      <td>5</td>\n",
       "      <td>0.21</td>\n",
       "      <td>0.00</td>\n",
       "    </tr>\n",
       "  </tbody>\n",
       "</table>\n",
       "</div>"
      ],
      "text/plain": [
       "                        PROBLEM_TYPE  COUNT  AVG_CALLS_TO_RESOLVE  \\\n",
       "0                Admin Password Lost     45                   2.3   \n",
       "1      Windows Reboots automatically     47                   3.1   \n",
       "2  System not coming up after reboot     12                   4.0   \n",
       "3                        Slow system    165                   1.2   \n",
       "4         Internet Connectivity loss    321                   1.0   \n",
       "\n",
       "   AVG_RESOLUTION_TIME  REOCCUR_RATE  REPLACEMENT_RATE  \n",
       "0                   54          0.15              0.00  \n",
       "1                  132          0.30              0.03  \n",
       "2                  154          0.02              0.05  \n",
       "3                   32          0.03              0.00  \n",
       "4                    5          0.21              0.00  "
      ]
     },
     "execution_count": 2,
     "metadata": {},
     "output_type": "execute_result"
    }
   ],
   "source": [
    "raw_data.head()"
   ]
  },
  {
   "cell_type": "markdown",
   "metadata": {},
   "source": [
    "## Group Data into similar clusters\n",
    "\n",
    "Now, we will use K-Means clustering to group data based on their attribute. First, we need to determine the optimal number of groups. For that we conduct the knee test to see where the knee happens."
   ]
  },
  {
   "cell_type": "code",
   "execution_count": 3,
   "metadata": {
    "collapsed": false,
    "scrolled": true
   },
   "outputs": [
    {
     "data": {
      "text/plain": [
       "<matplotlib.text.Text at 0x27298f49eb8>"
      ]
     },
     "execution_count": 3,
     "metadata": {},
     "output_type": "execute_result"
    },
    {
     "data": {
      "image/png": "[encoded data removed]",
      "text/plain": [
       "<matplotlib.figure.Figure at 0x27298e96630>"
      ]
     },
     "metadata": {},
     "output_type": "display_data"
    }
   ],
   "source": [
    "clust_data = raw_data.drop(\"PROBLEM_TYPE\",axis=1)\n",
    "\n",
    "#Finding optimal no. of clusters\n",
    "from scipy.spatial.distance import cdist\n",
    "clusters=range(1,10)\n",
    "meanDistortions=[]\n",
    "\n",
    "for k in clusters:\n",
    "    model=KMeans(n_clusters=k)\n",
    "    model.fit(clust_data)\n",
    "    prediction=model.predict(clust_data)\n",
    "    meanDistortions.append(sum(np.min(cdist(clust_data, model.cluster_centers_, 'euclidean'), axis=1)) / clust_data.shape[0])\n",
    "\n",
    "#plt.cla()\n",
    "plt.plot(clusters, meanDistortions, 'bx-')\n",
    "plt.xlabel('k')\n",
    "plt.ylabel('Average distortion')\n",
    "plt.title('Selecting k with the Elbow Method')\n"
   ]
  },
  {
   "cell_type": "markdown",
   "metadata": {},
   "source": [
    "Looking at the plot, we see that the knee happens at cluster=3. That is the ideal number of clusters. We now perform the actual clustering for 3. Then we add the cluster ID to the original dataset."
   ]
  },
  {
   "cell_type": "code",
   "execution_count": 4,
   "metadata": {
    "collapsed": false
   },
   "outputs": [
    {
     "name": "stdout",
     "output_type": "stream",
     "text": [
      "Groups Assigned : \n",
      "\n"
     ]
    },
    {
     "data": {
      "text/html": [
       "<div>\n",
       "<table border=\"1\" class=\"dataframe\">\n",
       "  <thead>\n",
       "    <tr style=\"text-align: right;\">\n",
       "      <th></th>\n",
       "      <th>GROUP</th>\n",
       "      <th>PROBLEM_TYPE</th>\n",
       "    </tr>\n",
       "  </thead>\n",
       "  <tbody>\n",
       "    <tr>\n",
       "      <th>0</th>\n",
       "      <td>0</td>\n",
       "      <td>Admin Password Lost</td>\n",
       "    </tr>\n",
       "    <tr>\n",
       "      <th>1</th>\n",
       "      <td>0</td>\n",
       "      <td>Windows Reboots automatically</td>\n",
       "    </tr>\n",
       "    <tr>\n",
       "      <th>2</th>\n",
       "      <td>0</td>\n",
       "      <td>System not coming up after reboot</td>\n",
       "    </tr>\n",
       "    <tr>\n",
       "      <th>3</th>\n",
       "      <td>2</td>\n",
       "      <td>Slow system</td>\n",
       "    </tr>\n",
       "    <tr>\n",
       "      <th>4</th>\n",
       "      <td>1</td>\n",
       "      <td>Internet Connectivity loss</td>\n",
       "    </tr>\n",
       "    <tr>\n",
       "      <th>5</th>\n",
       "      <td>0</td>\n",
       "      <td>New Installation hangs</td>\n",
       "    </tr>\n",
       "    <tr>\n",
       "      <th>6</th>\n",
       "      <td>0</td>\n",
       "      <td>Intermittent Blank Screen</td>\n",
       "    </tr>\n",
       "    <tr>\n",
       "      <th>7</th>\n",
       "      <td>2</td>\n",
       "      <td>Too many popups in Browser</td>\n",
       "    </tr>\n",
       "    <tr>\n",
       "      <th>8</th>\n",
       "      <td>2</td>\n",
       "      <td>Cannot find printer</td>\n",
       "    </tr>\n",
       "    <tr>\n",
       "      <th>9</th>\n",
       "      <td>0</td>\n",
       "      <td>Missing peripheral driver</td>\n",
       "    </tr>\n",
       "    <tr>\n",
       "      <th>10</th>\n",
       "      <td>1</td>\n",
       "      <td>Cannot detect keyboard</td>\n",
       "    </tr>\n",
       "    <tr>\n",
       "      <th>11</th>\n",
       "      <td>1</td>\n",
       "      <td>Cannot detect mouse</td>\n",
       "    </tr>\n",
       "    <tr>\n",
       "      <th>12</th>\n",
       "      <td>1</td>\n",
       "      <td>Head phone jack not working</td>\n",
       "    </tr>\n",
       "    <tr>\n",
       "      <th>13</th>\n",
       "      <td>2</td>\n",
       "      <td>DVD read error</td>\n",
       "    </tr>\n",
       "    <tr>\n",
       "      <th>14</th>\n",
       "      <td>0</td>\n",
       "      <td>Cannot recover using restore</td>\n",
       "    </tr>\n",
       "    <tr>\n",
       "      <th>15</th>\n",
       "      <td>2</td>\n",
       "      <td>WIFI not functioning</td>\n",
       "    </tr>\n",
       "    <tr>\n",
       "      <th>16</th>\n",
       "      <td>0</td>\n",
       "      <td>Laptop not charging</td>\n",
       "    </tr>\n",
       "    <tr>\n",
       "      <th>17</th>\n",
       "      <td>0</td>\n",
       "      <td>Laptop loses charge very fast</td>\n",
       "    </tr>\n",
       "    <tr>\n",
       "      <th>18</th>\n",
       "      <td>0</td>\n",
       "      <td>Dark areas on screen</td>\n",
       "    </tr>\n",
       "    <tr>\n",
       "      <th>19</th>\n",
       "      <td>2</td>\n",
       "      <td>anti-virus not working</td>\n",
       "    </tr>\n",
       "  </tbody>\n",
       "</table>\n",
       "</div>"
      ],
      "text/plain": [
       "    GROUP                       PROBLEM_TYPE\n",
       "0       0                Admin Password Lost\n",
       "1       0      Windows Reboots automatically\n",
       "2       0  System not coming up after reboot\n",
       "3       2                        Slow system\n",
       "4       1         Internet Connectivity loss\n",
       "5       0             New Installation hangs\n",
       "6       0          Intermittent Blank Screen\n",
       "7       2         Too many popups in Browser\n",
       "8       2                Cannot find printer\n",
       "9       0          Missing peripheral driver\n",
       "10      1             Cannot detect keyboard\n",
       "11      1                Cannot detect mouse\n",
       "12      1        Head phone jack not working\n",
       "13      2                     DVD read error\n",
       "14      0       Cannot recover using restore\n",
       "15      2               WIFI not functioning\n",
       "16      0                Laptop not charging\n",
       "17      0      Laptop loses charge very fast\n",
       "18      0               Dark areas on screen\n",
       "19      2             anti-virus not working"
      ]
     },
     "execution_count": 4,
     "metadata": {},
     "output_type": "execute_result"
    }
   ],
   "source": [
    "#Optimal clusters is 3\n",
    "final_model=KMeans(3)\n",
    "final_model.fit(clust_data)\n",
    "prediction=final_model.predict(clust_data)\n",
    "\n",
    "#Join predicted clusters back to raw data\n",
    "raw_data[\"GROUP\"] = prediction\n",
    "print(\"Groups Assigned : \\n\")\n",
    "raw_data[[\"GROUP\",\"PROBLEM_TYPE\"]]"
   ]
  },
  {
   "cell_type": "markdown",
   "metadata": {},
   "source": [
    "## Analyze the groups\n",
    "\n",
    "We now do a set of boxplots to see how the groups differ for various feature attributes.\n",
    "\n",
    "We start off with Count."
   ]
  },
  {
   "cell_type": "code",
   "execution_count": 5,
   "metadata": {
    "collapsed": false
   },
   "outputs": [
    {
     "data": {
      "text/plain": [
       "{'boxes': [<matplotlib.lines.Line2D at 0x27299349ef0>,\n",
       "  <matplotlib.lines.Line2D at 0x27299362390>,\n",
       "  <matplotlib.lines.Line2D at 0x27299375cc0>],\n",
       " 'caps': [<matplotlib.lines.Line2D at 0x272993589b0>,\n",
       "  <matplotlib.lines.Line2D at 0x27299358ac8>,\n",
       "  <matplotlib.lines.Line2D at 0x2729936abe0>,\n",
       "  <matplotlib.lines.Line2D at 0x2729936eb38>,\n",
       "  <matplotlib.lines.Line2D at 0x2729937ec50>,\n",
       "  <matplotlib.lines.Line2D at 0x2729937ed68>],\n",
       " 'fliers': [<matplotlib.lines.Line2D at 0x2729935db38>,\n",
       "  <matplotlib.lines.Line2D at 0x27299375ba8>,\n",
       "  <matplotlib.lines.Line2D at 0x27299385dd8>],\n",
       " 'means': [],\n",
       " 'medians': [<matplotlib.lines.Line2D at 0x2729935d320>,\n",
       "  <matplotlib.lines.Line2D at 0x2729936ec50>,\n",
       "  <matplotlib.lines.Line2D at 0x272993855c0>],\n",
       " 'whiskers': [<matplotlib.lines.Line2D at 0x27299350940>,\n",
       "  <matplotlib.lines.Line2D at 0x27299350a58>,\n",
       "  <matplotlib.lines.Line2D at 0x27299362b00>,\n",
       "  <matplotlib.lines.Line2D at 0x2729936aac8>,\n",
       "  <matplotlib.lines.Line2D at 0x27299379be0>,\n",
       "  <matplotlib.lines.Line2D at 0x27299379cf8>]}"
      ]
     },
     "execution_count": 5,
     "metadata": {},
     "output_type": "execute_result"
    },
    {
     "data": {
      "image/png": "[encoded data removed]",
      "text/plain": [
       "<matplotlib.figure.Figure at 0x272992a3cc0>"
      ]
     },
     "metadata": {},
     "output_type": "display_data"
    }
   ],
   "source": [
    "plt.cla()\n",
    "plt.boxplot([[raw_data[\"COUNT\"][raw_data.GROUP==0]],\n",
    "              [raw_data[\"COUNT\"][raw_data.GROUP==1]] ,\n",
    "                [raw_data[\"COUNT\"][raw_data.GROUP==2]] ],\n",
    "            labels=('GROUP 1','GROUP 2','GROUP 3'))"
   ]
  },
  {
   "cell_type": "code",
   "execution_count": null,
   "metadata": {
    "collapsed": true
   },
   "outputs": [],
   "source": [
    "We can see that the count of incidents range differently for different groups.\n",
    "\n",
    "Next we see avg. calls to resolve."
   ]
  },
  {
   "cell_type": "code",
   "execution_count": 6,
   "metadata": {
    "collapsed": false
   },
   "outputs": [
    {
     "data": {
      "text/plain": [
       "{'boxes': [<matplotlib.lines.Line2D at 0x272993f2ba8>,\n",
       "  <matplotlib.lines.Line2D at 0x27299405da0>,\n",
       "  <matplotlib.lines.Line2D at 0x2729941a710>],\n",
       " 'caps': [<matplotlib.lines.Line2D at 0x272993f8cc0>,\n",
       "  <matplotlib.lines.Line2D at 0x272993fdc18>,\n",
       "  <matplotlib.lines.Line2D at 0x2729940fd30>,\n",
       "  <matplotlib.lines.Line2D at 0x2729940fe48>,\n",
       "  <matplotlib.lines.Line2D at 0x27299421f60>,\n",
       "  <matplotlib.lines.Line2D at 0x27299428eb8>],\n",
       " 'fliers': [<matplotlib.lines.Line2D at 0x27299405c88>,\n",
       "  <matplotlib.lines.Line2D at 0x27299415eb8>,\n",
       "  <matplotlib.lines.Line2D at 0x2729942ef28>],\n",
       " 'means': [],\n",
       " 'medians': [<matplotlib.lines.Line2D at 0x272993fdd30>,\n",
       "  <matplotlib.lines.Line2D at 0x272994156a0>,\n",
       "  <matplotlib.lines.Line2D at 0x27299428fd0>],\n",
       " 'whiskers': [<matplotlib.lines.Line2D at 0x272993f2a90>,\n",
       "  <matplotlib.lines.Line2D at 0x272993f8ba8>,\n",
       "  <matplotlib.lines.Line2D at 0x2729940acc0>,\n",
       "  <matplotlib.lines.Line2D at 0x2729940add8>,\n",
       "  <matplotlib.lines.Line2D at 0x2729941ae80>,\n",
       "  <matplotlib.lines.Line2D at 0x27299421e48>]}"
      ]
     },
     "execution_count": 6,
     "metadata": {},
     "output_type": "execute_result"
    },
    {
     "data": {
      "image/png": "[encoded data removed]",
      "text/plain": [
       "<matplotlib.figure.Figure at 0x27299309400>"
      ]
     },
     "metadata": {},
     "output_type": "display_data"
    }
   ],
   "source": [
    "#Now for Avg. Calls to resolve\n",
    "plt.cla()\n",
    "plt.boxplot([[raw_data[\"AVG_CALLS_TO_RESOLVE\"][raw_data.GROUP==0]],\n",
    "              [raw_data[\"AVG_CALLS_TO_RESOLVE\"][raw_data.GROUP==1]] ,\n",
    "                [raw_data[\"AVG_CALLS_TO_RESOLVE\"][raw_data.GROUP==2]] ],\n",
    "            labels=('GROUP 1','GROUP 2','GROUP 3'))\n",
    " "
   ]
  },
  {
   "cell_type": "markdown",
   "metadata": {
    "collapsed": true
   },
   "source": [
    "Group 2 has hardly any time needed to resolve. This points to problems that are simple and straight forward. The business need to look at these incidents and provide a self-service path (product help, online help) for the customer instead of wasting agent's time\n",
    "\n",
    "Next we see Reoccurance Rate."
   ]
  },
  {
   "cell_type": "code",
   "execution_count": 7,
   "metadata": {
    "collapsed": false
   },
   "outputs": [
    {
     "data": {
      "text/plain": [
       "{'boxes': [<matplotlib.lines.Line2D at 0x27299485c88>,\n",
       "  <matplotlib.lines.Line2D at 0x27299499e80>,\n",
       "  <matplotlib.lines.Line2D at 0x272994b07f0>],\n",
       " 'caps': [<matplotlib.lines.Line2D at 0x2729948eda0>,\n",
       "  <matplotlib.lines.Line2D at 0x27299494cf8>,\n",
       "  <matplotlib.lines.Line2D at 0x272994a4e10>,\n",
       "  <matplotlib.lines.Line2D at 0x272994a4f28>,\n",
       "  <matplotlib.lines.Line2D at 0x272994bc780>,\n",
       "  <matplotlib.lines.Line2D at 0x272994bcf98>],\n",
       " 'fliers': [<matplotlib.lines.Line2D at 0x27299499d68>,\n",
       "  <matplotlib.lines.Line2D at 0x272994a8f98>,\n",
       "  <matplotlib.lines.Line2D at 0x272994c2ef0>],\n",
       " 'means': [],\n",
       " 'medians': [<matplotlib.lines.Line2D at 0x27299494e10>,\n",
       "  <matplotlib.lines.Line2D at 0x272994a8780>,\n",
       "  <matplotlib.lines.Line2D at 0x272994c20f0>],\n",
       " 'whiskers': [<matplotlib.lines.Line2D at 0x27299485b70>,\n",
       "  <matplotlib.lines.Line2D at 0x2729948ec88>,\n",
       "  <matplotlib.lines.Line2D at 0x2729949eda0>,\n",
       "  <matplotlib.lines.Line2D at 0x2729949eeb8>,\n",
       "  <matplotlib.lines.Line2D at 0x272994b0f60>,\n",
       "  <matplotlib.lines.Line2D at 0x272994b6f28>]}"
      ]
     },
     "execution_count": 7,
     "metadata": {},
     "output_type": "execute_result"
    },
    {
     "data": {
      "image/png": "[encoded data removed]",
      "text/plain": [
       "<matplotlib.figure.Figure at 0x272993af470>"
      ]
     },
     "metadata": {},
     "output_type": "display_data"
    }
   ],
   "source": [
    "plt.cla()\n",
    "plt.boxplot([[raw_data[\"REOCCUR_RATE\"][raw_data.GROUP==0]],\n",
    "              [raw_data[\"REOCCUR_RATE\"][raw_data.GROUP==1]] ,\n",
    "                [raw_data[\"REOCCUR_RATE\"][raw_data.GROUP==2]] ],\n",
    "            labels=('GROUP 1','GROUP 2','GROUP 3'))"
   ]
  },
  {
   "cell_type": "markdown",
   "metadata": {},
   "source": [
    "Group 2 has really high reoccurance rate. This set of incidents need to be analyze to see how the product quality can be improved to prevent these from happening."
   ]
  },
  {
   "cell_type": "code",
   "execution_count": 8,
   "metadata": {
    "collapsed": false
   },
   "outputs": [
    {
     "data": {
      "text/plain": [
       "{'boxes': [<matplotlib.lines.Line2D at 0x27299526e10>,\n",
       "  <matplotlib.lines.Line2D at 0x27299538f98>,\n",
       "  <matplotlib.lines.Line2D at 0x2729954e978>],\n",
       " 'caps': [<matplotlib.lines.Line2D at 0x2729952ef28>,\n",
       "  <matplotlib.lines.Line2D at 0x27299532e80>,\n",
       "  <matplotlib.lines.Line2D at 0x27299544f98>,\n",
       "  <matplotlib.lines.Line2D at 0x272995497f0>,\n",
       "  <matplotlib.lines.Line2D at 0x2729955a908>,\n",
       "  <matplotlib.lines.Line2D at 0x2729955aa20>],\n",
       " 'fliers': [<matplotlib.lines.Line2D at 0x27299538ef0>,\n",
       "  <matplotlib.lines.Line2D at 0x2729954e860>,\n",
       "  <matplotlib.lines.Line2D at 0x2729955fa90>],\n",
       " 'means': [],\n",
       " 'medians': [<matplotlib.lines.Line2D at 0x27299532f98>,\n",
       "  <matplotlib.lines.Line2D at 0x27299549908>,\n",
       "  <matplotlib.lines.Line2D at 0x2729955f278>],\n",
       " 'whiskers': [<matplotlib.lines.Line2D at 0x27299526cf8>,\n",
       "  <matplotlib.lines.Line2D at 0x2729952ee10>,\n",
       "  <matplotlib.lines.Line2D at 0x2729953ff28>,\n",
       "  <matplotlib.lines.Line2D at 0x27299544780>,\n",
       "  <matplotlib.lines.Line2D at 0x27299555898>,\n",
       "  <matplotlib.lines.Line2D at 0x27299555fd0>]}"
      ]
     },
     "execution_count": 8,
     "metadata": {},
     "output_type": "execute_result"
    },
    {
     "data": {
      "image/png": "[encoded data removed]",
      "text/plain": [
       "<matplotlib.figure.Figure at 0x272993a09e8>"
      ]
     },
     "metadata": {},
     "output_type": "display_data"
    }
   ],
   "source": [
    "plt.cla()\n",
    "plt.boxplot([[raw_data[\"REPLACEMENT_RATE\"][raw_data.GROUP==0]],\n",
    "              [raw_data[\"REPLACEMENT_RATE\"][raw_data.GROUP==1]] ,\n",
    "                [raw_data[\"REPLACEMENT_RATE\"][raw_data.GROUP==2]] ],\n",
    "            labels=('GROUP 1','GROUP 2','GROUP 3'))"
   ]
  },
  {
   "cell_type": "markdown",
   "metadata": {},
   "source": [
    "Replacement rates vary widely for Group 1. It does not provide any significant pattern to act upon."
   ]
  },
  {
   "cell_type": "code",
   "execution_count": null,
   "metadata": {
    "collapsed": true
   },
   "outputs": [],
   "source": []
  }
 ],
 "metadata": {
  "anaconda-cloud": {},
  "kernelspec": {
   "display_name": "Python 3",
   "language": "python",
   "name": "python3"
  },
  "language_info": {
   "codemirror_mode": {
    "name": "ipython",
    "version": 3
   },
   "file_extension": ".py",
   "mimetype": "text/x-python",
   "name": "python",
   "nbconvert_exporter": "python",
   "pygments_lexer": "ipython3",
   "version": "3.6.0"
  }
 },
 "nbformat": 4,
 "nbformat_minor": 0
}
